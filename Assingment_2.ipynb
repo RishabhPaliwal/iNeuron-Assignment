{
  "nbformat": 4,
  "nbformat_minor": 0,
  "metadata": {
    "colab": {
      "name": "Assingment 2.ipynb",
      "provenance": [],
      "collapsed_sections": [],
      "authorship_tag": "ABX9TyP9oFuu7z9gfGudIcikFYKY"
    },
    "kernelspec": {
      "name": "python3",
      "display_name": "Python 3"
    }
  },
  "cells": [
    {
      "cell_type": "markdown",
      "metadata": {
        "id": "1Lk_9S6vAABh",
        "colab_type": "text"
      },
      "source": [
        "Write a Python Program to implement your own myreduce() function which works exactly like Python's built-in function reduce()"
      ]
    },
    {
      "cell_type": "code",
      "metadata": {
        "id": "_jyChDCiXe76",
        "colab_type": "code",
        "colab": {}
      },
      "source": [
        "def myreduce(anyfunc, sequence):\n",
        "  result = sequence[0]\n",
        "  for item in sequence[1:]:\n",
        "   result = anyfunc(result, item)\n",
        "\n",
        "  return result\n",
        "\n",
        "def sum(x,y):\n",
        "  return x + y"
      ],
      "execution_count": 0,
      "outputs": []
    },
    {
      "cell_type": "code",
      "metadata": {
        "id": "TeARA6bvYw3L",
        "colab_type": "code",
        "colab": {
          "base_uri": "https://localhost:8080/",
          "height": 34
        },
        "outputId": "83240b8a-0ca5-4b35-e2a1-1f1547120528"
      },
      "source": [
        "myreduce(sum,[3,6])\n"
      ],
      "execution_count": 35,
      "outputs": [
        {
          "output_type": "execute_result",
          "data": {
            "text/plain": [
              "9"
            ]
          },
          "metadata": {
            "tags": []
          },
          "execution_count": 35
        }
      ]
    },
    {
      "cell_type": "markdown",
      "metadata": {
        "id": "FXZgZwo2SqJp",
        "colab_type": "text"
      },
      "source": [
        "Write a Python program to implement your own myfilter() function which works exactly like Python's built-in function filter()\n"
      ]
    },
    {
      "cell_type": "code",
      "metadata": {
        "id": "bNklLcy5Y4IU",
        "colab_type": "code",
        "colab": {}
      },
      "source": [
        "def myfilter(func, my_list):\n",
        "  result = []\n",
        "  for item in my_list:\n",
        "    if func(item):\n",
        "      result.append(item)\n",
        "    return result\n",
        "\n",
        "\n",
        "def ispositive(x):\n",
        "  if (x <= 0):\n",
        "    return False \n",
        "  else:\n",
        "    return True"
      ],
      "execution_count": 0,
      "outputs": []
    },
    {
      "cell_type": "markdown",
      "metadata": {
        "id": "H2jIFuraGzdp",
        "colab_type": "text"
      },
      "source": [
        "Implement List comprehensions to produce the following lists.\n",
        "Write List comprehensions to produce the following Lists\n",
        "\n",
        "['A', 'C', 'A', 'D', 'G', 'I', ’L’, ‘ D’]\n",
        "\n",
        "['x', 'xx', 'xxx', 'xxxx', 'y', 'yy', 'yyy', 'yyyy', 'z', 'zz', 'zzz', 'zzzz']\n",
        "\n",
        "['x', 'y', 'z', 'xx', 'yy', 'zz', 'xx', 'yy', 'zz', 'xxxx', 'yyyy', 'zzzz']\n",
        "\n",
        "[[2], [3], [4], [3], [4], [5], [4], [5], [6]]\n",
        "\n",
        "[[2, 3, 4, 5], [3, 4, 5, 6], [4, 5, 6, 7], [5, 6, 7, 8]]\n",
        "\n",
        "[(1, 1), (2, 1), (3, 1), (1, 2), (2, 2), (3, 2), (1, 3), (2, 3), (3, 3)]"
      ]
    },
    {
      "cell_type": "code",
      "metadata": {
        "id": "iJvSe_SSDDnj",
        "colab_type": "code",
        "outputId": "eb2c7f20-6996-4a04-8279-958c6f3cc25f",
        "colab": {
          "base_uri": "https://localhost:8080/",
          "height": 34
        }
      },
      "source": [
        "word = \"ACADGILD\"\n",
        "Split_List = [i for i in word]\n",
        "print(str(Split_List))"
      ],
      "execution_count": 0,
      "outputs": [
        {
          "output_type": "stream",
          "text": [
            "['A', 'C', 'A', 'D', 'G', 'I', 'L', 'D']\n"
          ],
          "name": "stdout"
        }
      ]
    },
    {
      "cell_type": "code",
      "metadata": {
        "id": "r79Ce3lsGdxp",
        "colab_type": "code",
        "outputId": "c3b95684-9cb6-4373-fadd-a2b1720b768f",
        "colab": {
          "base_uri": "https://localhost:8080/",
          "height": 34
        }
      },
      "source": [
        "input_list = [\"x\",\"y\",\"z\"]\n",
        "result = [ i*j for i in input_list for j in range(1,5) ]\n",
        "print(str(result))"
      ],
      "execution_count": 0,
      "outputs": [
        {
          "output_type": "stream",
          "text": [
            "['x', 'xx', 'xxx', 'xxxx', 'y', 'yy', 'yyy', 'yyyy', 'z', 'zz', 'zzz', 'zzzz']\n"
          ],
          "name": "stdout"
        }
      ]
    },
    {
      "cell_type": "code",
      "metadata": {
        "id": "-aHUMZLdIfRY",
        "colab_type": "code",
        "outputId": "f3f7b8c4-6203-4ee3-f219-fa21c6260fb6",
        "colab": {
          "base_uri": "https://localhost:8080/",
          "height": 34
        }
      },
      "source": [
        "input_list = [\"x\",\"y\",\"z\"]\n",
        "result = [ i*j for j in range(1,5) for i in input_list ]\n",
        "print(str(result))"
      ],
      "execution_count": 0,
      "outputs": [
        {
          "output_type": "stream",
          "text": [
            "['x', 'y', 'z', 'xx', 'yy', 'zz', 'xxx', 'yyy', 'zzz', 'xxxx', 'yyyy', 'zzzz']\n"
          ],
          "name": "stdout"
        }
      ]
    },
    {
      "cell_type": "code",
      "metadata": {
        "id": "W63JZN3NJp0R",
        "colab_type": "code",
        "outputId": "1714d201-f07f-4e3e-e8f6-2a0948abb3ac",
        "colab": {
          "base_uri": "https://localhost:8080/",
          "height": 34
        }
      },
      "source": [
        "input_list = [2,3,4]\n",
        "result = [ [i+j] for i in input_list for j in range(0,3)]\n",
        "print(str(result))"
      ],
      "execution_count": 0,
      "outputs": [
        {
          "output_type": "stream",
          "text": [
            "[[2], [3], [4], [3], [4], [5], [4], [5], [6]]\n"
          ],
          "name": "stdout"
        }
      ]
    },
    {
      "cell_type": "code",
      "metadata": {
        "id": "xzAvL4x8J6ee",
        "colab_type": "code",
        "outputId": "b6b85bd8-260b-47ff-aa28-eacde7db6058",
        "colab": {
          "base_uri": "https://localhost:8080/",
          "height": 34
        }
      },
      "source": [
        "input_list = [2,3,4,5]\n",
        "result = [ [i+j for i in input_list ] for j in range(0,4)  ]\n",
        "print(str(result))"
      ],
      "execution_count": 0,
      "outputs": [
        {
          "output_type": "stream",
          "text": [
            "[[2, 3, 4, 5], [3, 4, 5, 6], [4, 5, 6, 7], [5, 6, 7, 8]]\n"
          ],
          "name": "stdout"
        }
      ]
    },
    {
      "cell_type": "code",
      "metadata": {
        "id": "QmPzWVFwLW4j",
        "colab_type": "code",
        "outputId": "845296bd-fd7d-4ae3-fa10-deb0a4299917",
        "colab": {
          "base_uri": "https://localhost:8080/",
          "height": 34
        }
      },
      "source": [
        "result = [ (i,j) for j in range(1,4) for i in range(1,4) ]\n",
        "print(str(result))"
      ],
      "execution_count": 0,
      "outputs": [
        {
          "output_type": "stream",
          "text": [
            "[(1, 1), (2, 1), (3, 1), (1, 2), (2, 2), (3, 2), (1, 3), (2, 3), (3, 3)]\n"
          ],
          "name": "stdout"
        }
      ]
    },
    {
      "cell_type": "markdown",
      "metadata": {
        "id": "L89QlabLOGGb",
        "colab_type": "text"
      },
      "source": [
        "Write a Python Program(with class concepts) to find the area of the triangle using the below formula.\n",
        "\n",
        "area = (s*(s-a)*(s-b)*(s-c)) ** 0.5\n",
        "\n",
        "Function to take the length of the sides of triangle from user should be defined in the parent class and function to calculate the area should be defined in subclass"
      ]
    },
    {
      "cell_type": "code",
      "metadata": {
        "id": "u-AonkdzM9SM",
        "colab_type": "code",
        "outputId": "e6111ad4-f9f4-41b8-d380-a0a9804a5b2b",
        "colab": {
          "base_uri": "https://localhost:8080/",
          "height": 85
        }
      },
      "source": [
        "class triangle:\n",
        "  def __init__(self,a,b,c):\n",
        "    self.a = a\n",
        "    self.b = b\n",
        "    self.c = c\n",
        "  def area(self):\n",
        "        s=(self.a + self.b + self.c)/2\n",
        "        return((s*(s-self.a)*(s-self.b)*(s-self.c))**0.5)\n",
        "a=input(\"Enter the value of a = \")\n",
        "b=input(\"Enter the value of b = \")\n",
        "c=input(\"Enter the value of c = \")\n",
        "t = Triangle(a, b, c)\n",
        "print(\"area : {}\".format(t.area()))"
      ],
      "execution_count": 0,
      "outputs": [
        {
          "output_type": "stream",
          "text": [
            "Enter the value of a = 4\n",
            "Enter the value of b = 4\n",
            "Enter the value of c = 4\n",
            "area : 6.928203230275509\n"
          ],
          "name": "stdout"
        }
      ]
    },
    {
      "cell_type": "markdown",
      "metadata": {
        "id": "1qrRmnhAC8UU",
        "colab_type": "text"
      },
      "source": [
        "Write a function filter_long_words() that takes a list of words and an integer n and returns the list\n",
        "of words that are longer than n."
      ]
    },
    {
      "cell_type": "code",
      "metadata": {
        "id": "pNgjYoqsC7K2",
        "colab_type": "code",
        "colab": {}
      },
      "source": [
        "def filter_long_words(n, str):\n",
        "  word_len = []\n",
        "  text = str.split(\" \")\n",
        "  for x in text:\n",
        "    if len(x) > n:\n",
        "      word_len.append(x)\n",
        "  return word_len"
      ],
      "execution_count": 0,
      "outputs": []
    },
    {
      "cell_type": "code",
      "metadata": {
        "id": "Scq0ikdzHr1m",
        "colab_type": "code",
        "outputId": "6c086b27-7c4c-4966-b814-06cd9e5d3a9a",
        "colab": {
          "base_uri": "https://localhost:8080/",
          "height": 34
        }
      },
      "source": [
        "print(filter_long_words(4,\"The quick brown fox jumps over the lazy dog\"))"
      ],
      "execution_count": 0,
      "outputs": [
        {
          "output_type": "stream",
          "text": [
            "['quick', 'brown', 'jumps']\n"
          ],
          "name": "stdout"
        }
      ]
    },
    {
      "cell_type": "markdown",
      "metadata": {
        "id": "xO6cjqZZIkM3",
        "colab_type": "text"
      },
      "source": [
        "Write a Python program using function concept that maps list of words into a list of integers representing the lengths of the corresponding words.\n"
      ]
    },
    {
      "cell_type": "code",
      "metadata": {
        "id": "rliw8PT0GShU",
        "colab_type": "code",
        "outputId": "6d0d8f2f-0b30-4d93-99da-7b99d0e6f7b9",
        "colab": {
          "base_uri": "https://localhost:8080/",
          "height": 34
        }
      },
      "source": [
        "word_list = [\"My\", \"name\", \"is\", \"Rishabh\", \"Paliwal\"]\n",
        "def word_length(wordlist):\n",
        " return list(map(lambda x: len(x), word_list))\n",
        "\n",
        "print (str(word_length(word_list)))"
      ],
      "execution_count": 0,
      "outputs": [
        {
          "output_type": "stream",
          "text": [
            "[2, 4, 2, 7, 7]\n"
          ],
          "name": "stdout"
        }
      ]
    },
    {
      "cell_type": "markdown",
      "metadata": {
        "id": "LWRxmDkmu8OY",
        "colab_type": "text"
      },
      "source": [
        "Write a Python function which takes a character (i.e. a string of length 1) and returns True if it is a vowel, False otherwise.\n"
      ]
    },
    {
      "cell_type": "code",
      "metadata": {
        "id": "tp-VZy67sYJN",
        "colab_type": "code",
        "colab": {}
      },
      "source": [
        "def is_vowel(char):\n",
        "  if 'aeiouAEIOU'.find(char) < 0:\n",
        "    return False\n",
        "  return True"
      ],
      "execution_count": 0,
      "outputs": []
    },
    {
      "cell_type": "code",
      "metadata": {
        "id": "v1OLcZQiseLw",
        "colab_type": "code",
        "outputId": "ccfc766f-a13a-4ff1-cce7-4dec14211105",
        "colab": {
          "base_uri": "https://localhost:8080/",
          "height": 34
        }
      },
      "source": [
        "is_vowel(\"a\")"
      ],
      "execution_count": 0,
      "outputs": [
        {
          "output_type": "execute_result",
          "data": {
            "text/plain": [
              "True"
            ]
          },
          "metadata": {
            "tags": []
          },
          "execution_count": 3
        }
      ]
    },
    {
      "cell_type": "code",
      "metadata": {
        "id": "dMyt3AZishC5",
        "colab_type": "code",
        "outputId": "7f4ee3fe-9a7c-42b3-e2c0-38f3712dffcd",
        "colab": {
          "base_uri": "https://localhost:8080/",
          "height": 34
        }
      },
      "source": [
        "is_vowel(\"c\")"
      ],
      "execution_count": 0,
      "outputs": [
        {
          "output_type": "execute_result",
          "data": {
            "text/plain": [
              "False"
            ]
          },
          "metadata": {
            "tags": []
          },
          "execution_count": 4
        }
      ]
    }
  ]
}